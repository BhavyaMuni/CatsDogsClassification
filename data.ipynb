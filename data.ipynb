{
 "cells": [
  {
   "cell_type": "code",
   "execution_count": 41,
   "metadata": {},
   "outputs": [],
   "source": [
    "import numpy as np\n",
    "import os\n",
    "import cv2\n",
    "import matplotlib.pyplot as plt\n",
    "\n",
    "CATEGORIES = [\"Dog\", \"Cat\"]\n",
    "SIZE = 52\n",
    "data = []\n",
    "\n",
    "\n",
    "direc = \"C:/users/bhavy/Documents/RANDOM_PROJECTS/DeepLearning/data/PetImages\"\n",
    "\n",
    "def preprocess(img):\n",
    "    img = cv2.resize(img, (SIZE, SIZE))\n",
    "    return img\n",
    "\n",
    "for cat in CATEGORIES:\n",
    "    directory = os.path.join(direc, cat)\n",
    "    \n",
    "    for i in os.listdir(directory):\n",
    "        try:\n",
    "            img = cv2.imread(os.path.join(directory, i), 0)\n",
    "            data.append([preprocess(img), CATEGORIES.index(cat)])\n",
    "        except Exception as e:\n",
    "            pass"
   ]
  },
  {
   "cell_type": "code",
   "execution_count": 44,
   "metadata": {},
   "outputs": [],
   "source": [
    "import random\n",
    "random.shuffle(data)"
   ]
  },
  {
   "cell_type": "code",
   "execution_count": 55,
   "metadata": {},
   "outputs": [],
   "source": [
    "X = []\n",
    "y = []\n",
    "\n",
    "for features,labels in data:\n",
    "    X.append(features)\n",
    "    y.append(labels)\n",
    "\n",
    "X = np.array(X).reshape(-1, SIZE, SIZE, 1)\n",
    "y = np.array(y)"
   ]
  },
  {
   "cell_type": "code",
   "execution_count": 56,
   "metadata": {},
   "outputs": [],
   "source": [
    "import pickle\n",
    "\n",
    "pickle_out = open(\"X.pickle\", \"wb\")\n",
    "pickle.dump(X, pickle_out)\n",
    "pickle_out.close()\n",
    "\n",
    "pickle_out = open(\"y.pickle\", \"wb\")\n",
    "pickle.dump(y, pickle_out)\n",
    "pickle_out.close()"
   ]
  },
  {
   "cell_type": "code",
   "execution_count": 51,
   "metadata": {},
   "outputs": [
    {
     "name": "stdout",
     "output_type": "stream",
     "text": [
      "[[[0.74509804]\n",
      "  [0.76862745]\n",
      "  [0.79215686]\n",
      "  ...\n",
      "  [0.64313725]\n",
      "  [0.64705882]\n",
      "  [0.56862745]]\n",
      "\n",
      " [[0.76470588]\n",
      "  [0.78823529]\n",
      "  [0.8       ]\n",
      "  ...\n",
      "  [0.67843137]\n",
      "  [0.62352941]\n",
      "  [0.61176471]]\n",
      "\n",
      " [[0.77254902]\n",
      "  [0.79607843]\n",
      "  [0.80784314]\n",
      "  ...\n",
      "  [0.65098039]\n",
      "  [0.63529412]\n",
      "  [0.62352941]]\n",
      "\n",
      " ...\n",
      "\n",
      " [[0.61176471]\n",
      "  [0.63529412]\n",
      "  [0.65882353]\n",
      "  ...\n",
      "  [0.41176471]\n",
      "  [0.48235294]\n",
      "  [0.27843137]]\n",
      "\n",
      " [[0.59607843]\n",
      "  [0.61568627]\n",
      "  [0.64313725]\n",
      "  ...\n",
      "  [0.47843137]\n",
      "  [0.46666667]\n",
      "  [0.4745098 ]]\n",
      "\n",
      " [[0.57254902]\n",
      "  [0.59607843]\n",
      "  [0.61960784]\n",
      "  ...\n",
      "  [0.48627451]\n",
      "  [0.45882353]\n",
      "  [0.45098039]]]\n"
     ]
    }
   ],
   "source": []
  },
  {
   "cell_type": "code",
   "execution_count": null,
   "metadata": {},
   "outputs": [],
   "source": []
  }
 ],
 "metadata": {
  "file_extension": ".py",
  "kernelspec": {
   "display_name": "Python 3",
   "language": "python",
   "name": "python3"
  },
  "language_info": {
   "codemirror_mode": {
    "name": "ipython",
    "version": 3
   },
   "file_extension": ".py",
   "mimetype": "text/x-python",
   "name": "python",
   "nbconvert_exporter": "python",
   "pygments_lexer": "ipython3",
   "version": "3.7.4"
  },
  "mimetype": "text/x-python",
  "name": "python",
  "npconvert_exporter": "python",
  "pygments_lexer": "ipython3",
  "version": 3
 },
 "nbformat": 4,
 "nbformat_minor": 2
}
